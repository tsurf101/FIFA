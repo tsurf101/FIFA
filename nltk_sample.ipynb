{
 "cells": [
  {
   "cell_type": "code",
   "execution_count": 15,
   "metadata": {},
   "outputs": [],
   "source": [
    "from nltk import sent_tokenize, word_tokenize\n",
    "from nltk.corpus import stopwords"
   ]
  },
  {
   "cell_type": "code",
   "execution_count": 10,
   "metadata": {},
   "outputs": [],
   "source": [
    "example_text = 'Hello Mr. Smith, how are you doing today? Hope all is well! Lets go get some coffee later today. Are you ready?'"
   ]
  },
  {
   "cell_type": "code",
   "execution_count": 11,
   "metadata": {},
   "outputs": [
    {
     "name": "stdout",
     "output_type": "stream",
     "text": [
      "['Hello Mr. Smith, how are you doing today?', 'Hope all is well!', 'Lets go get some coffee later today']\n"
     ]
    }
   ],
   "source": [
    "print(sent_tokenize(example_text))"
   ]
  },
  {
   "cell_type": "code",
   "execution_count": 22,
   "metadata": {},
   "outputs": [
    {
     "name": "stdout",
     "output_type": "stream",
     "text": [
      "['Hello', 'Mr.', 'Smith', ',', 'how', 'are', 'you', 'doing', 'today', '?', 'Hope', 'all', 'is', 'well', '!', 'Lets', 'go', 'get', 'some', 'coffee', 'later', 'today']\n"
     ]
    }
   ],
   "source": [
    "words = word_tokenize(example_text)\n",
    "print(words)"
   ]
  },
  {
   "cell_type": "code",
   "execution_count": 25,
   "metadata": {},
   "outputs": [],
   "source": [
    "#now going to remove unimportant words\n",
    "#trick, can append words to this stop list to act as a further filter \n",
    "stop_words = set(stopwords.words(\"english\"))"
   ]
  },
  {
   "cell_type": "code",
   "execution_count": 37,
   "metadata": {},
   "outputs": [
    {
     "name": "stdout",
     "output_type": "stream",
     "text": [
      "['Hello', 'Mr.', 'Smith', ',', 'today', '?', 'Hope', 'well', '!', 'Lets', 'go', 'get', 'coffee', 'later', 'today']\n"
     ]
    }
   ],
   "source": [
    "clean_list = []\n",
    "#option 1 \n",
    "for i in words:\n",
    "    if i not in stop_words:\n",
    "        clean_list.append(i)\n",
    "\n",
    "print(clean_list)"
   ]
  },
  {
   "cell_type": "code",
   "execution_count": 36,
   "metadata": {},
   "outputs": [
    {
     "name": "stdout",
     "output_type": "stream",
     "text": [
      "['Hello', 'Mr.', 'Smith', ',', 'today', '?', 'Hope', 'well', '!', 'Lets', 'go', 'get', 'coffee', 'later', 'today']\n"
     ]
    }
   ],
   "source": [
    "#option 2 - using list comprehenssion \n",
    "clean_list2 = [i for i in words if not i in stop_words]\n",
    "print(clean_list2)"
   ]
  },
  {
   "cell_type": "code",
   "execution_count": null,
   "metadata": {},
   "outputs": [],
   "source": [
    "\n"
   ]
  },
  {
   "cell_type": "code",
   "execution_count": null,
   "metadata": {
    "collapsed": true
   },
   "outputs": [],
   "source": []
  }
 ],
 "metadata": {
  "kernelspec": {
   "display_name": "Python 3",
   "language": "python",
   "name": "python3"
  },
  "language_info": {
   "codemirror_mode": {
    "name": "ipython",
    "version": 3
   },
   "file_extension": ".py",
   "mimetype": "text/x-python",
   "name": "python",
   "nbconvert_exporter": "python",
   "pygments_lexer": "ipython3",
   "version": "3.6.2"
  }
 },
 "nbformat": 4,
 "nbformat_minor": 2
}
