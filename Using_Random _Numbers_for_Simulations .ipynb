{
 "cells": [
  {
   "cell_type": "code",
   "execution_count": 16,
   "metadata": {},
   "outputs": [],
   "source": [
    "import numpy  \n",
    "import matplotlib \n",
    "%matplotlib inline"
   ]
  },
  {
   "cell_type": "markdown",
   "metadata": {},
   "source": [
    "How to generate random numbers"
   ]
  },
  {
   "cell_type": "code",
   "execution_count": 17,
   "metadata": {},
   "outputs": [
    {
     "data": {
      "text/plain": [
       "array([ 0.00760155,  0.15118942,  0.80608804,  0.37290608,  0.09805131,\n",
       "        0.65245956,  0.32257338,  0.12103304,  0.06781094,  0.16538141])"
      ]
     },
     "execution_count": 17,
     "metadata": {},
     "output_type": "execute_result"
    }
   ],
   "source": [
    "#generating random numbers can be important \n",
    "#Example 1: \n",
    "numpy.random.rand(10)"
   ]
  },
  {
   "cell_type": "code",
   "execution_count": 18,
   "metadata": {},
   "outputs": [
    {
     "data": {
      "text/plain": [
       "array([[ 0.88274018,  0.88662291,  0.93887665,  0.19691577,  0.4362634 ],\n",
       "       [ 0.33891798,  0.77989081,  0.65999104,  0.76801982,  0.79931628],\n",
       "       [ 0.90568731,  0.44234551,  0.0222585 ,  0.8148452 ,  0.93225098],\n",
       "       [ 0.93300115,  0.02660226,  0.34284636,  0.52169724,  0.11556402],\n",
       "       [ 0.84467044,  0.37143972,  0.099522  ,  0.89443981,  0.34329199]])"
      ]
     },
     "execution_count": 18,
     "metadata": {},
     "output_type": "execute_result"
    }
   ],
   "source": [
    "#Example 2:\n",
    "#5x5 matrix of random numbers\n",
    "numpy.random.rand(5,5)"
   ]
  },
  {
   "cell_type": "code",
   "execution_count": 19,
   "metadata": {},
   "outputs": [
    {
     "data": {
      "text/plain": [
       "array([ 7.70106587,  8.7693576 ,  6.99044488,  7.49358856,  7.21850639,\n",
       "        6.35171738,  9.11579205,  9.66171345,  7.05978103,  9.84732882])"
      ]
     },
     "execution_count": 19,
     "metadata": {},
     "output_type": "execute_result"
    }
   ],
   "source": [
    "#Example 3:\n",
    "#Random numbers from the interval [a,b) = [6,10)\n",
    "a = 6\n",
    "b = 10\n",
    "numpy.random.rand(10)*(b-a) + a"
   ]
  },
  {
   "cell_type": "code",
   "execution_count": 20,
   "metadata": {},
   "outputs": [
    {
     "data": {
      "text/plain": [
       "array([[ 7.02476144,  7.0509195 ,  6.45002444,  8.32917473,  7.87853654],\n",
       "       [ 9.03968149,  9.70769   ,  6.37223544,  7.1845352 ,  8.89586759],\n",
       "       [ 7.32255674,  8.19635941,  6.09264276,  9.77713014,  8.51742933],\n",
       "       [ 6.62712306,  9.2522435 ,  6.96134908,  7.88915972,  7.91857104],\n",
       "       [ 6.1922982 ,  7.1272125 ,  7.6359806 ,  6.7182806 ,  9.64886209]])"
      ]
     },
     "execution_count": 20,
     "metadata": {},
     "output_type": "execute_result"
    }
   ],
   "source": [
    "#Example 4:\n",
    "#we can also go into further detail by creating a 5x5 matrix using random numbers specified in Example 3\n",
    "numpy.random.rand(5,5) * (b-a) + a"
   ]
  },
  {
   "cell_type": "markdown",
   "metadata": {},
   "source": [
    "Will be using the Black-Scholes-Merton set up for option pricing below in order to simulate future index level"
   ]
  },
  {
   "cell_type": "code",
   "execution_count": 26,
   "metadata": {
    "collapsed": true
   },
   "outputs": [],
   "source": [
    "s0= 100 #initial \n",
    "r = 0.04 #this is the constant riskless short rate\n",
    "sigma = 0.25 #constant volatility (=standard deviation of the returns) of S\n",
    "T = 2.0 #Time in years\n",
    "I = 1000 #number of random draws, which will basically be the length of our array ST1 below"
   ]
  },
  {
   "cell_type": "code",
   "execution_count": 27,
   "metadata": {},
   "outputs": [
    {
     "name": "stdout",
     "output_type": "stream",
     "text": [
      "1000\n"
     ]
    }
   ],
   "source": [
    "ST1 =s0 * numpy.exp((r-0.5 * sigma ** 2) * T + sigma * numpy.sqrt(T) * numpy.random.standard_normal(I))"
   ]
  },
  {
   "cell_type": "code",
   "execution_count": 29,
   "metadata": {
    "scrolled": true
   },
   "outputs": [
    {
     "data": {
      "image/png": "[encoded data removed]",
      "text/plain": [
       "<matplotlib.figure.Figure at 0x2091c975550>"
      ]
     },
     "metadata": {},
     "output_type": "display_data"
    }
   ],
   "source": [
    "matplotlib.pyplot.hist(ST1, bins = 50)\n",
    "matplotlib.pyplot.xlabel('index level')\n",
    "matplotlib.pyplot.ylabel('frequency')\n",
    "matplotlib.pyplot.grid(True)"
   ]
  },
  {
   "cell_type": "markdown",
   "metadata": {},
   "source": [
    "Essentially this is geometric Brownian mortion via our standard_normal call inside.\n",
    "Using these initial assumptions and random numbers we learned that we have a lognormal distribution. We could have also used a lognormal function."
   ]
  },
  {
   "cell_type": "code",
   "execution_count": null,
   "metadata": {
    "collapsed": true
   },
   "outputs": [],
   "source": []
  }
 ],
 "metadata": {
  "kernelspec": {
   "display_name": "Python 3",
   "language": "python",
   "name": "python3"
  },
  "language_info": {
   "codemirror_mode": {
    "name": "ipython",
    "version": 3
   },
   "file_extension": ".py",
   "mimetype": "text/x-python",
   "name": "python",
   "nbconvert_exporter": "python",
   "pygments_lexer": "ipython3",
   "version": "3.6.2"
  }
 },
 "nbformat": 4,
 "nbformat_minor": 2
}
