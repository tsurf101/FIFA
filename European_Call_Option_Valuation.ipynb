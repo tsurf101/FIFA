{
 "cells": [
  {
   "cell_type": "markdown",
   "metadata": {},
   "source": [
    "# How to Value a European Call Option using Monte Carlo for Black-Scholes-Merton index level at maturity algo"
   ]
  },
  {
   "cell_type": "code",
   "execution_count": 3,
   "metadata": {},
   "outputs": [],
   "source": [
    "from numpy import *"
   ]
  },
  {
   "cell_type": "code",
   "execution_count": 4,
   "metadata": {},
   "outputs": [],
   "source": [
    "S0 = 100 #This is the initial stock index level \n",
    "K = 101.22 #Strick price of the European call option \n",
    "T = 1.0 # Time-to-maturity, in our example this is one year\n",
    "r = 0.03 #constant - riskless short rate\n",
    "sigma = 0.015 #constant volatity (%)"
   ]
  },
  {
   "cell_type": "code",
   "execution_count": 9,
   "metadata": {},
   "outputs": [],
   "source": [
    "I = 10000 #This variable defines how many simulations you will do\n",
    "z = random.standard_normal(I) #generating I random numbers from the standard normal distribution\n",
    "\n",
    "ST = S0*exp((r-0.5*sigma**2)*T+sigma*sqrt(T)*z) #calculating resulting index levels at maturity ST for given z(i)\n",
    "hT = maximum(ST-K, 0) #calculting inner values of the option at maturity \n",
    "C0 = exp(-r*T)*sum(hT)/I #estimating present value via monte carlo estimate. Notice that we divide by I "
   ]
  },
  {
   "cell_type": "code",
   "execution_count": 10,
   "metadata": {},
   "outputs": [
    {
     "name": "stdout",
     "output_type": "stream",
     "text": [
      "The value of our Euro Call Option is 2.171\n"
     ]
    }
   ],
   "source": [
    "print(\"The value of our Euro Call Option is %5.3f\" % C0)"
   ]
  },
  {
   "cell_type": "code",
   "execution_count": null,
   "metadata": {},
   "outputs": [],
   "source": []
  }
 ],
 "metadata": {
  "kernelspec": {
   "display_name": "Python 3",
   "language": "python",
   "name": "python3"
  },
  "language_info": {
   "codemirror_mode": {
    "name": "ipython",
    "version": 3
   },
   "file_extension": ".py",
   "mimetype": "text/x-python",
   "name": "python",
   "nbconvert_exporter": "python",
   "pygments_lexer": "ipython3",
   "version": "3.7.3"
  }
 },
 "nbformat": 4,
 "nbformat_minor": 2
}
